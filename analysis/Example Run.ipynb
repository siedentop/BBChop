{
 "cells": [
  {
   "cell_type": "code",
   "execution_count": null,
   "metadata": {
    "collapsed": true
   },
   "outputs": [],
   "source": [
    "%matplotlib inline\n",
    "\n",
    "import matplotlib.pyplot as plt\n",
    "from matplotlib import animation, rc\n",
    "from IPython.display import HTML\n",
    "\n",
    "import seaborn"
   ]
  },
  {
   "cell_type": "markdown",
   "metadata": {},
   "source": [
    "In this little experiment, I printed the likelihoods after each iteration.\n",
    "\n",
    "The test case was failing with 10% probability and the history had 10 locations. And I requested a certainty for termination of 90%."
   ]
  },
  {
   "cell_type": "code",
   "execution_count": null,
   "metadata": {
    "collapsed": true
   },
   "outputs": [],
   "source": [
    "with open('example_run.csv') as f: s = f.read()"
   ]
  },
  {
   "cell_type": "code",
   "execution_count": null,
   "metadata": {
    "collapsed": false
   },
   "outputs": [],
   "source": [
    "N = 10\n",
    "runs = [[1/N for _ in range(N)]]\n",
    "for line in s.split('\\n'):\n",
    "    line = line.strip('[]')\n",
    "    if len(line) > 0:\n",
    "        li = [float(i) for i in line.split(',')]\n",
    "        runs.append(li)"
   ]
  },
  {
   "cell_type": "markdown",
   "metadata": {},
   "source": [
    "In the next plots you will see that at the beginning the likelihood for the fault location is evenly distributed. There was no observation made.\n",
    "\n",
    "Then, in the next plot there was an observation (\"No fault detected.\") at Location 3. Therefore, after Location 3 things are more likely, and on or before it, the fault is less likely.\n",
    "\n",
    "Scroll down the graphs 'Iteration 14'. Notice that Locations 8 and 9 have dropped to 0, and Location 7 is around 0.25. This means that there was a fault detected at Location 7. Therefore, the algorithm knows that 8 and 9 cannot be the first faulty location.\n",
    "\n",
    "Afterwards the algorithm evaluates at Location 6 until it is certain that it will not detect the fault there. Once Location 7 reaches certainty/likelihood 90%, the algorithm terminates."
   ]
  },
  {
   "cell_type": "code",
   "execution_count": null,
   "metadata": {
    "collapsed": false
   },
   "outputs": [],
   "source": [
    "for i, r in enumerate(runs):\n",
    "    plt.bar(list(range(10)), r)\n",
    "    plt.xlabel('Location')\n",
    "    plt.ylabel('Likelihood after {} iterations'.format(i))\n",
    "    plt.xticks(range(N))\n",
    "    plt.show()"
   ]
  },
  {
   "cell_type": "code",
   "execution_count": null,
   "metadata": {
    "collapsed": false
   },
   "outputs": [],
   "source": [
    "fig, ax = plt.subplots()\n",
    "# fig.set_tight_layout(True)\n",
    "\n",
    "ax.set_xlim((0, 10))\n",
    "ax.set_ylim((0, 1))\n",
    "\n",
    "line, = ax.plot([], [])\n",
    "\n",
    "x = list(range(N))\n",
    "\n",
    "ylabel_func = lambda i: 'Likelihood after {} iterations'.format(i)\n",
    "\n",
    "def init():\n",
    "    line.set_data([], [])\n",
    "    return (line, )\n",
    "\n",
    "def animate(i):\n",
    "    y = runs[i]\n",
    "    line.set_data(x, y)\n",
    "    return (line,)\n",
    "\n",
    "anim = animation.FuncAnimation(fig, animate, init_func=init,\n",
    "                               frames=72, interval=40, blit=True)\n",
    "\n",
    "# HTML(anim.to_html5_video())\n",
    "rc('animation', html='html5')\n",
    "anim"
   ]
  },
  {
   "cell_type": "code",
   "execution_count": null,
   "metadata": {
    "collapsed": true
   },
   "outputs": [],
   "source": []
  }
 ],
 "metadata": {
  "kernelspec": {
   "display_name": "Python 3",
   "language": "python",
   "name": "python3"
  },
  "language_info": {
   "codemirror_mode": {
    "name": "ipython",
    "version": 3
   },
   "file_extension": ".py",
   "mimetype": "text/x-python",
   "name": "python",
   "nbconvert_exporter": "python",
   "pygments_lexer": "ipython3",
   "version": "3.6.0"
  }
 },
 "nbformat": 4,
 "nbformat_minor": 2
}
